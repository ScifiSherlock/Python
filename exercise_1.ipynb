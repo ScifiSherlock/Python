{
 "cells": [
  {
   "cell_type": "markdown",
   "metadata": {
    "deletable": false,
    "editable": false,
    "nbgrader": {
     "cell_type": "markdown",
     "checksum": "23ceeacffd64a06aa3b7a7da1930b9c9",
     "grade": false,
     "grade_id": "cell-b49fc22bd7719c7e",
     "locked": true,
     "schema_version": 3,
     "solution": false
    }
   },
   "source": [
    "# Exercises: Getting started with Python\n",
    "\n",
    "This Jupyter Notebook contains exercises that are graded automatically using [nbgrader](http://nbgrader.readthedocs.io/), an extension to Jupyter Notebooks.\n",
    "\n",
    "For this reason, the exercises are organised into numbered sections and formatted as follows.\n",
    "\n",
    "**Read the instructions under each section first**. \n",
    "\n",
    "Then enter your answer into the next cell, which should have the following content:\n",
    "\n",
    "```\n",
    "# YOUR CODE HERE\n",
    "raise NotImplementedError()\n",
    "```\n",
    "\n",
    "Remember that lines beginning with the hash character (`#`) are comments, which are not executed during runtime.\n",
    "\n",
    "**To enter your answer, replace the line `raise NotImplementedError()` with your solution.** Note that your solution can naturally extend to subsequent lines in the cell. You can test your solution by running the cell.\n",
    "\n",
    "**There is an empty cell below the cell where you should write your solution. nbgrader needs these empty code cells to function properly. Please ignore these cells – do not edit or remove them.**\n",
    "\n",
    "**Before submitting your assignment, make sure you have saved the notebook.**\n",
    "\n",
    "Press <kbd>Control</kbd>+<kbd>s</kbd> or select the *File* menu and click *Save*."
   ]
  },
  {
   "cell_type": "markdown",
   "metadata": {
    "deletable": false,
    "editable": false,
    "nbgrader": {
     "cell_type": "markdown",
     "checksum": "856a65c37bfb46ec2d3a0dc248c9c28b",
     "grade": false,
     "grade_id": "cell-7af3eb9f74cb9115",
     "locked": true,
     "schema_version": 3,
     "solution": false
    }
   },
   "source": [
    "## 1. Create a variable with a string object\n",
    "\n",
    "Create a variable named `my_variable` and assign a string object with the text `This is my first variable.` to the variable."
   ]
  },
  {
   "cell_type": "code",
   "execution_count": null,
   "metadata": {
    "deletable": false,
    "nbgrader": {
     "cell_type": "code",
     "checksum": "6578b3542c5860048985498bce7cc6de",
     "grade": false,
     "grade_id": "create_var",
     "locked": false,
     "schema_version": 3,
     "solution": true
    }
   },
   "outputs": [],
   "source": [
    "# YOUR CODE HERE\n",
    "raise NotImplementedError()"
   ]
  },
  {
   "cell_type": "code",
   "execution_count": null,
   "metadata": {
    "deletable": false,
    "editable": false,
    "nbgrader": {
     "cell_type": "code",
     "checksum": "02042c75289f55700eacb58924aa4e01",
     "grade": true,
     "grade_id": "create_var_correct",
     "locked": true,
     "points": 2,
     "schema_version": 3,
     "solution": false
    }
   },
   "outputs": [],
   "source": []
  },
  {
   "cell_type": "markdown",
   "metadata": {
    "deletable": false,
    "editable": false,
    "nbgrader": {
     "cell_type": "markdown",
     "checksum": "5b02709fc44b46be2fee5ef84604cbe8",
     "grade": false,
     "grade_id": "cell-93ec09072d7c25f6",
     "locked": true,
     "schema_version": 3,
     "solution": false
    }
   },
   "source": [
    "# 2. Split the string into a list\n",
    "\n",
    "Split the string stored under the variable `my_variable` into a list using the `.split()` method and assign the resulting list to a variable named `my_list`."
   ]
  },
  {
   "cell_type": "code",
   "execution_count": null,
   "metadata": {
    "deletable": false,
    "nbgrader": {
     "cell_type": "code",
     "checksum": "901536680d87781f45f3d592ec09bbfd",
     "grade": false,
     "grade_id": "split_string",
     "locked": false,
     "schema_version": 3,
     "solution": true
    }
   },
   "outputs": [],
   "source": [
    "# YOUR CODE HERE\n",
    "raise NotImplementedError()"
   ]
  },
  {
   "cell_type": "code",
   "execution_count": null,
   "metadata": {
    "deletable": false,
    "editable": false,
    "nbgrader": {
     "cell_type": "code",
     "checksum": "3c230e903881f24a44214bee1abbd8ad",
     "grade": true,
     "grade_id": "split_string_correct",
     "locked": true,
     "points": 2,
     "schema_version": 3,
     "solution": false
    }
   },
   "outputs": [],
   "source": []
  },
  {
   "cell_type": "markdown",
   "metadata": {
    "deletable": false,
    "editable": false,
    "nbgrader": {
     "cell_type": "markdown",
     "checksum": "36e6ce700bfe8df86ec45e83af853379",
     "grade": false,
     "grade_id": "cell-6ebd7a0bb6033516",
     "locked": true,
     "schema_version": 3,
     "solution": false
    }
   },
   "source": [
    "# 3. Get a list item\n",
    "\n",
    "Get the **fifth** item in the list stored under variable `my_list` and assign it to a variable named `item_5`."
   ]
  },
  {
   "cell_type": "code",
   "execution_count": null,
   "metadata": {
    "deletable": false,
    "nbgrader": {
     "cell_type": "code",
     "checksum": "0ddd4d51d85bf170b69dbc4d81e40937",
     "grade": false,
     "grade_id": "get_item",
     "locked": false,
     "schema_version": 3,
     "solution": true
    }
   },
   "outputs": [],
   "source": [
    "# YOUR CODE HERE\n",
    "raise NotImplementedError()"
   ]
  },
  {
   "cell_type": "code",
   "execution_count": null,
   "metadata": {
    "deletable": false,
    "editable": false,
    "nbgrader": {
     "cell_type": "code",
     "checksum": "d722433de255219a914fd7a3964c0c48",
     "grade": true,
     "grade_id": "get_item_correct",
     "locked": true,
     "points": 2,
     "schema_version": 3,
     "solution": false
    }
   },
   "outputs": [],
   "source": []
  },
  {
   "cell_type": "markdown",
   "metadata": {
    "deletable": false,
    "editable": false,
    "nbgrader": {
     "cell_type": "markdown",
     "checksum": "f45402c2b66739a79247c63c88988109",
     "grade": false,
     "grade_id": "cell-9c364747586846fb",
     "locked": true,
     "schema_version": 3,
     "solution": false
    }
   },
   "source": [
    "# 4. Print the contents of a variable\n",
    "\n",
    "Print the contents of the variable `item_5`."
   ]
  },
  {
   "cell_type": "code",
   "execution_count": null,
   "metadata": {
    "deletable": false,
    "nbgrader": {
     "cell_type": "code",
     "checksum": "da1ff505bc9fdeef97663eca507038a8",
     "grade": false,
     "grade_id": "print",
     "locked": false,
     "schema_version": 3,
     "solution": true
    }
   },
   "outputs": [],
   "source": [
    "# YOUR CODE HERE\n",
    "raise NotImplementedError()"
   ]
  },
  {
   "cell_type": "code",
   "execution_count": null,
   "metadata": {
    "deletable": false,
    "editable": false,
    "nbgrader": {
     "cell_type": "code",
     "checksum": "a04c324535921dac6995e48832bcce16",
     "grade": true,
     "grade_id": "print_correct",
     "locked": true,
     "points": 2,
     "schema_version": 3,
     "solution": false
    }
   },
   "outputs": [],
   "source": []
  },
  {
   "cell_type": "markdown",
   "metadata": {
    "deletable": false,
    "editable": false,
    "nbgrader": {
     "cell_type": "markdown",
     "checksum": "80aabb2d778e44fada8f6a6c9356e8ab",
     "grade": false,
     "grade_id": "cell-a460ff1aa011d6b8",
     "locked": true,
     "schema_version": 3,
     "solution": false
    }
   },
   "source": [
    "## 5. Strip the trailing full stop \n",
    "\n",
    "Strip the trailing full stop `.` from the string stored under the variable `item_5` using the `.strip()` method.\n",
    "\n",
    "Remember that the `.strip()` method takes the string to be removed as input between the parentheses `()`. This input must be a string as well!\n",
    "\n",
    "Assign the result under the variable `item_5`, that is, update the variable!"
   ]
  },
  {
   "cell_type": "code",
   "execution_count": null,
   "metadata": {
    "deletable": false,
    "nbgrader": {
     "cell_type": "code",
     "checksum": "b57a876edaf702ba79b2a256f9af75f0",
     "grade": false,
     "grade_id": "strip",
     "locked": false,
     "schema_version": 3,
     "solution": true,
     "task": false
    }
   },
   "outputs": [],
   "source": [
    "# YOUR CODE HERE\n",
    "raise NotImplementedError()"
   ]
  },
  {
   "cell_type": "code",
   "execution_count": null,
   "metadata": {
    "deletable": false,
    "editable": false,
    "nbgrader": {
     "cell_type": "code",
     "checksum": "8fe05db2401d5c8d0ea6d3766c6bf023",
     "grade": true,
     "grade_id": "strip_correct",
     "locked": true,
     "points": 2,
     "schema_version": 3,
     "solution": false,
     "task": false
    }
   },
   "outputs": [],
   "source": []
  },
  {
   "cell_type": "markdown",
   "metadata": {
    "deletable": false,
    "editable": false,
    "nbgrader": {
     "cell_type": "markdown",
     "checksum": "ed87bf1523ba612b147b838189cbd823",
     "grade": false,
     "grade_id": "cell-92f38928c9d192de",
     "locked": true,
     "schema_version": 3,
     "solution": false,
     "task": false
    }
   },
   "source": [
    "That's it!\n",
    "\n",
    "**Before submitting your assignment, make sure you have saved the notebook.**\n",
    "\n",
    "Press <kbd>Control</kbd>+<kbd>s</kbd> or select the *File* menu and click *Save*."
   ]
  }
 ],
 "metadata": {
  "kernelspec": {
   "display_name": "Python 3",
   "language": "python",
   "name": "python3"
  },
  "language_info": {
   "codemirror_mode": {
    "name": "ipython",
    "version": 3
   },
   "file_extension": ".py",
   "mimetype": "text/x-python",
   "name": "python",
   "nbconvert_exporter": "python",
   "pygments_lexer": "ipython3",
   "version": "3.6.4"
  }
 },
 "nbformat": 4,
 "nbformat_minor": 2
}
